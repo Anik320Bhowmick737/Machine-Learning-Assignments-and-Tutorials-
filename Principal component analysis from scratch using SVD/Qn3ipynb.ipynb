{
  "nbformat": 4,
  "nbformat_minor": 0,
  "metadata": {
    "colab": {
      "provenance": []
    },
    "kernelspec": {
      "name": "python3",
      "display_name": "Python 3"
    },
    "language_info": {
      "name": "python"
    }
  },
  "cells": [
    {
      "cell_type": "markdown",
      "source": [
        "\n",
        "# Question 3.\n",
        "\n"
      ],
      "metadata": {
        "id": "0lKa9KVj_9HF"
      }
    },
    {
      "cell_type": "markdown",
      "source": [
        "# Importing Libraries"
      ],
      "metadata": {
        "id": "OT-gHN8eVMvs"
      }
    },
    {
      "cell_type": "code",
      "execution_count": 151,
      "metadata": {
        "id": "2imqdJn6_U5x"
      },
      "outputs": [],
      "source": [
        "import numpy as np\n",
        "from scipy.linalg import orth\n",
        "import pandas as pd\n",
        "import numpy as np\n",
        "from scipy.sparse.linalg import svds,eigs\n",
        "import matplotlib.pyplot as plt"
      ]
    },
    {
      "cell_type": "markdown",
      "source": [
        "# PCA class"
      ],
      "metadata": {
        "id": "RiMMVFkLVKj-"
      }
    },
    {
      "cell_type": "code",
      "source": [
        "class Denoiser:\n",
        "\n",
        "  def __init__(self,data,final_dim) :\n",
        "    self.data=data\n",
        "    self.mean=data.mean(axis=0)\n",
        "    self.std=data.std(axis=0)\n",
        "    self.dim=final_dim\n",
        "\n",
        "  #SVD Based\n",
        "  def get_svs(self) :\n",
        "    zero_mean=(self.data-self.mean)/self.std\n",
        "    u,s,v=svds(zero_mean,k=self.dim)\n",
        "    v=v.T\n",
        "    return np.fliplr(v)\n",
        "\n",
        "  #Covariance_matrix Based\n",
        "  def get_eigvs(self):\n",
        "    zero_mean=(self.data-self.mean)/self.std\n",
        "    l=self.data.shape[0]\n",
        "    cov=(1/l)*(zero_mean.dot(zero_mean.T))\n",
        "    vals,eig=eigs(cov,k=self.dim)\n",
        "    eig=np.real(eig)\n",
        "    vals=np.real(vals)\n",
        "    return eig\n",
        "\n",
        "  def get_dim(self,D,svs=False,eigvs=False):\n",
        "    Dt=(D-self.mean)/self.std\n",
        "    if svs==True :\n",
        "      v=self.get_svs()\n",
        "      final=Dt.dot(v)\n",
        "      return final,v\n",
        "    if eigvs==True :\n",
        "      v=self.get_eigvs()\n",
        "      final=Dt.dot(v)\n",
        "      return final\n",
        "\n",
        "  def Reconstruct(self,D,svs=False,eigvs=False) :\n",
        "    if svs==True:\n",
        "      Final,v=self.get_dim(D,svs=svs)\n",
        "    if eigvs==True:\n",
        "      Final,v=self.get_dim(D,eigvs=eigvs)\n",
        "    Recons=Final.dot(v.T)*self.std+self.mean\n",
        "    return Recons"
      ],
      "metadata": {
        "id": "7_9g-PjP_eT-"
      },
      "execution_count": 152,
      "outputs": []
    },
    {
      "cell_type": "code",
      "source": [
        "def Reconstructor(lower_dim_data,v):\n",
        "  return np.dot(lower_dim_data,v.T)\n",
        "def dis_by_rec(data,rec_data):\n",
        "  d=data-rec_data\n",
        "  Dis=np.sum(d**2,axis=1)**0.5\n",
        "  return np.sum(Dis,axis=0)"
      ],
      "metadata": {
        "id": "XHC4dZWi20kZ"
      },
      "execution_count": 153,
      "outputs": []
    },
    {
      "cell_type": "markdown",
      "source": [
        "#Computes Distance"
      ],
      "metadata": {
        "id": "X2sM9fkPVRL3"
      }
    },
    {
      "cell_type": "code",
      "source": [
        "def get_total_distance(data,projected_data):\n",
        "  L_sqaured=np.sum(A*A,axis=1)\n",
        "  proj_L_sqaured=np.sum(projected_data*projected_data,axis=1)\n",
        "  distance_squared=L_sqaured-proj_L_sqaured\n",
        "  Sum_of_distance=np.sum(distance_squared**0.5)\n",
        "  return Sum_of_distance"
      ],
      "metadata": {
        "id": "_txBF3vR_beC"
      },
      "execution_count": 154,
      "outputs": []
    },
    {
      "cell_type": "markdown",
      "source": [
        "# Lower Dimension Converter"
      ],
      "metadata": {
        "id": "UZZ6KjdlVEk2"
      }
    },
    {
      "cell_type": "code",
      "source": [
        "def get_lower_dim(data,basis):#expects features in the columns and samples in the row of data and for basis matrix each column is a basis vector\n",
        "  return np.dot(data,basis)"
      ],
      "metadata": {
        "id": "2WhdMivV_YV1"
      },
      "execution_count": 155,
      "outputs": []
    },
    {
      "cell_type": "markdown",
      "source": [
        "# Randomly Generated Data out of Gaussian Distribution"
      ],
      "metadata": {
        "id": "3H8qasXDU7kl"
      }
    },
    {
      "cell_type": "code",
      "source": [
        "np.random.seed(0)\n",
        "A=np.array([np.random.normal(size=200) for j in range(10)]) #columns are features and rows are samples. Randomly generated data matrix from Gaussian Distribution\n",
        "A=A.T\n",
        "A=(A-np.mean(A,axis=0))/np.std(A,axis=0)"
      ],
      "metadata": {
        "id": "ETRzoxkT_gzD"
      },
      "execution_count": 156,
      "outputs": []
    },
    {
      "cell_type": "code",
      "source": [
        "PCA=Denoiser(A,final_dim=2).get_svs()#Get the singular vectors"
      ],
      "metadata": {
        "id": "7-y8xYQC_jbU"
      },
      "execution_count": 157,
      "outputs": []
    },
    {
      "cell_type": "code",
      "source": [
        "Proj_A=get_lower_dim(A,PCA)"
      ],
      "metadata": {
        "id": "HIXofb26_oI4"
      },
      "execution_count": 158,
      "outputs": []
    },
    {
      "cell_type": "markdown",
      "source": [
        "**The distance computed from projection vectors spanned by PCs**"
      ],
      "metadata": {
        "id": "izm9Z4R1_yc1"
      }
    },
    {
      "cell_type": "code",
      "source": [
        "get_total_distance(A,Proj_A)#Distance between the projection vector and the actual one when the basis is chosen from 2 PCs"
      ],
      "metadata": {
        "colab": {
          "base_uri": "https://localhost:8080/"
        },
        "id": "QCRz3O45_wQs",
        "outputId": "ff8a207a-4c9e-4980-b8d4-75e994596783"
      },
      "execution_count": 159,
      "outputs": [
        {
          "output_type": "execute_result",
          "data": {
            "text/plain": [
              "524.377669166967"
            ]
          },
          "metadata": {},
          "execution_count": 159
        }
      ]
    },
    {
      "cell_type": "markdown",
      "source": [
        "**Reconstruction Error**"
      ],
      "metadata": {
        "id": "fnxRTIIA6tty"
      }
    },
    {
      "cell_type": "code",
      "source": [
        "dis_by_rec(A,Reconstructor(get_lower_dim(A,PCA),PCA))"
      ],
      "metadata": {
        "colab": {
          "base_uri": "https://localhost:8080/"
        },
        "id": "d-2PeU-D5sul",
        "outputId": "5f82b3f2-f1e6-45a0-8e91-cebb23175895"
      },
      "execution_count": 160,
      "outputs": [
        {
          "output_type": "execute_result",
          "data": {
            "text/plain": [
              "524.377669166967"
            ]
          },
          "metadata": {},
          "execution_count": 160
        }
      ]
    },
    {
      "cell_type": "markdown",
      "source": [
        "**The distance computed from projection vector and original vector spanned by random orthonormal basis**"
      ],
      "metadata": {
        "id": "0PHJjwlY_2XL"
      }
    },
    {
      "cell_type": "code",
      "source": [
        "np.random.seed(1)\n",
        "G=[]\n",
        "for i in range(1,51):\n",
        "  plane=np.random.randn(10,10).astype(np.float64)\n",
        "  plane=orth(plane)[:,:2]# generating the plane with 2 orthonormal Basis vectors\n",
        "  Proj_A=get_lower_dim(A,plane)\n",
        "  d=get_total_distance(A,Proj_A)\n",
        "  D=dis_by_rec(A,Reconstructor(get_lower_dim(A,plane),plane))\n",
        "  G.append([i,d,D])\n",
        "  print(f\"For plane {i:02d} the distance computed by Pythagoras formula is:  {d:.3f}     by reconstruction error is:  {D:.3f}\")"
      ],
      "metadata": {
        "colab": {
          "base_uri": "https://localhost:8080/"
        },
        "id": "GiNZEawl_1o6",
        "outputId": "6ea2247f-31f6-401d-dd01-eecd190eed26"
      },
      "execution_count": 161,
      "outputs": [
        {
          "output_type": "stream",
          "name": "stdout",
          "text": [
            "For plane 01 the distance computed by Pythagoras formula is:  544.267     by reconstruction error is:  544.267\n",
            "For plane 02 the distance computed by Pythagoras formula is:  551.709     by reconstruction error is:  551.709\n",
            "For plane 03 the distance computed by Pythagoras formula is:  554.627     by reconstruction error is:  554.627\n",
            "For plane 04 the distance computed by Pythagoras formula is:  550.303     by reconstruction error is:  550.303\n",
            "For plane 05 the distance computed by Pythagoras formula is:  541.405     by reconstruction error is:  541.405\n",
            "For plane 06 the distance computed by Pythagoras formula is:  548.053     by reconstruction error is:  548.053\n",
            "For plane 07 the distance computed by Pythagoras formula is:  543.413     by reconstruction error is:  543.413\n",
            "For plane 08 the distance computed by Pythagoras formula is:  547.161     by reconstruction error is:  547.161\n",
            "For plane 09 the distance computed by Pythagoras formula is:  546.619     by reconstruction error is:  546.619\n",
            "For plane 10 the distance computed by Pythagoras formula is:  551.240     by reconstruction error is:  551.240\n",
            "For plane 11 the distance computed by Pythagoras formula is:  550.679     by reconstruction error is:  550.679\n",
            "For plane 12 the distance computed by Pythagoras formula is:  550.333     by reconstruction error is:  550.333\n",
            "For plane 13 the distance computed by Pythagoras formula is:  551.547     by reconstruction error is:  551.547\n",
            "For plane 14 the distance computed by Pythagoras formula is:  546.480     by reconstruction error is:  546.480\n",
            "For plane 15 the distance computed by Pythagoras formula is:  550.878     by reconstruction error is:  550.878\n",
            "For plane 16 the distance computed by Pythagoras formula is:  544.627     by reconstruction error is:  544.627\n",
            "For plane 17 the distance computed by Pythagoras formula is:  548.534     by reconstruction error is:  548.534\n",
            "For plane 18 the distance computed by Pythagoras formula is:  548.917     by reconstruction error is:  548.917\n",
            "For plane 19 the distance computed by Pythagoras formula is:  554.417     by reconstruction error is:  554.417\n",
            "For plane 20 the distance computed by Pythagoras formula is:  544.217     by reconstruction error is:  544.217\n",
            "For plane 21 the distance computed by Pythagoras formula is:  555.069     by reconstruction error is:  555.069\n",
            "For plane 22 the distance computed by Pythagoras formula is:  548.129     by reconstruction error is:  548.129\n",
            "For plane 23 the distance computed by Pythagoras formula is:  553.096     by reconstruction error is:  553.096\n",
            "For plane 24 the distance computed by Pythagoras formula is:  541.710     by reconstruction error is:  541.710\n",
            "For plane 25 the distance computed by Pythagoras formula is:  543.205     by reconstruction error is:  543.205\n",
            "For plane 26 the distance computed by Pythagoras formula is:  551.737     by reconstruction error is:  551.737\n",
            "For plane 27 the distance computed by Pythagoras formula is:  553.213     by reconstruction error is:  553.213\n",
            "For plane 28 the distance computed by Pythagoras formula is:  549.272     by reconstruction error is:  549.272\n",
            "For plane 29 the distance computed by Pythagoras formula is:  552.584     by reconstruction error is:  552.584\n",
            "For plane 30 the distance computed by Pythagoras formula is:  548.005     by reconstruction error is:  548.005\n",
            "For plane 31 the distance computed by Pythagoras formula is:  550.556     by reconstruction error is:  550.556\n",
            "For plane 32 the distance computed by Pythagoras formula is:  548.588     by reconstruction error is:  548.588\n",
            "For plane 33 the distance computed by Pythagoras formula is:  551.140     by reconstruction error is:  551.140\n",
            "For plane 34 the distance computed by Pythagoras formula is:  549.052     by reconstruction error is:  549.052\n",
            "For plane 35 the distance computed by Pythagoras formula is:  536.808     by reconstruction error is:  536.808\n",
            "For plane 36 the distance computed by Pythagoras formula is:  543.056     by reconstruction error is:  543.056\n",
            "For plane 37 the distance computed by Pythagoras formula is:  551.781     by reconstruction error is:  551.781\n",
            "For plane 38 the distance computed by Pythagoras formula is:  551.069     by reconstruction error is:  551.069\n",
            "For plane 39 the distance computed by Pythagoras formula is:  547.935     by reconstruction error is:  547.935\n",
            "For plane 40 the distance computed by Pythagoras formula is:  551.247     by reconstruction error is:  551.247\n",
            "For plane 41 the distance computed by Pythagoras formula is:  545.727     by reconstruction error is:  545.727\n",
            "For plane 42 the distance computed by Pythagoras formula is:  546.558     by reconstruction error is:  546.558\n",
            "For plane 43 the distance computed by Pythagoras formula is:  552.307     by reconstruction error is:  552.307\n",
            "For plane 44 the distance computed by Pythagoras formula is:  545.589     by reconstruction error is:  545.589\n",
            "For plane 45 the distance computed by Pythagoras formula is:  547.836     by reconstruction error is:  547.836\n",
            "For plane 46 the distance computed by Pythagoras formula is:  544.316     by reconstruction error is:  544.316\n",
            "For plane 47 the distance computed by Pythagoras formula is:  548.969     by reconstruction error is:  548.969\n",
            "For plane 48 the distance computed by Pythagoras formula is:  549.473     by reconstruction error is:  549.473\n",
            "For plane 49 the distance computed by Pythagoras formula is:  545.958     by reconstruction error is:  545.958\n",
            "For plane 50 the distance computed by Pythagoras formula is:  552.905     by reconstruction error is:  552.905\n"
          ]
        }
      ]
    },
    {
      "cell_type": "code",
      "source": [
        "D=pd.DataFrame(G,columns=['Plane Number','Total Distance (By Pythagoras)','Reconstruction Error'])\n",
        "D.set_index('Plane Number',inplace=True)\n",
        "D.head()"
      ],
      "metadata": {
        "colab": {
          "base_uri": "https://localhost:8080/",
          "height": 237
        },
        "id": "eeD2e5vlV981",
        "outputId": "f1c576ec-e810-4144-ac44-10bd46d242d3"
      },
      "execution_count": 162,
      "outputs": [
        {
          "output_type": "execute_result",
          "data": {
            "text/plain": [
              "              Total Distance (By Pythagoras)  Reconstruction Error\n",
              "Plane Number                                                      \n",
              "1                                 544.267034            544.267034\n",
              "2                                 551.708526            551.708526\n",
              "3                                 554.626542            554.626542\n",
              "4                                 550.302629            550.302629\n",
              "5                                 541.404525            541.404525"
            ],
            "text/html": [
              "\n",
              "  <div id=\"df-5a28d438-6fa0-4dd7-981a-1fff863d3624\" class=\"colab-df-container\">\n",
              "    <div>\n",
              "<style scoped>\n",
              "    .dataframe tbody tr th:only-of-type {\n",
              "        vertical-align: middle;\n",
              "    }\n",
              "\n",
              "    .dataframe tbody tr th {\n",
              "        vertical-align: top;\n",
              "    }\n",
              "\n",
              "    .dataframe thead th {\n",
              "        text-align: right;\n",
              "    }\n",
              "</style>\n",
              "<table border=\"1\" class=\"dataframe\">\n",
              "  <thead>\n",
              "    <tr style=\"text-align: right;\">\n",
              "      <th></th>\n",
              "      <th>Total Distance (By Pythagoras)</th>\n",
              "      <th>Reconstruction Error</th>\n",
              "    </tr>\n",
              "    <tr>\n",
              "      <th>Plane Number</th>\n",
              "      <th></th>\n",
              "      <th></th>\n",
              "    </tr>\n",
              "  </thead>\n",
              "  <tbody>\n",
              "    <tr>\n",
              "      <th>1</th>\n",
              "      <td>544.267034</td>\n",
              "      <td>544.267034</td>\n",
              "    </tr>\n",
              "    <tr>\n",
              "      <th>2</th>\n",
              "      <td>551.708526</td>\n",
              "      <td>551.708526</td>\n",
              "    </tr>\n",
              "    <tr>\n",
              "      <th>3</th>\n",
              "      <td>554.626542</td>\n",
              "      <td>554.626542</td>\n",
              "    </tr>\n",
              "    <tr>\n",
              "      <th>4</th>\n",
              "      <td>550.302629</td>\n",
              "      <td>550.302629</td>\n",
              "    </tr>\n",
              "    <tr>\n",
              "      <th>5</th>\n",
              "      <td>541.404525</td>\n",
              "      <td>541.404525</td>\n",
              "    </tr>\n",
              "  </tbody>\n",
              "</table>\n",
              "</div>\n",
              "    <div class=\"colab-df-buttons\">\n",
              "\n",
              "  <div class=\"colab-df-container\">\n",
              "    <button class=\"colab-df-convert\" onclick=\"convertToInteractive('df-5a28d438-6fa0-4dd7-981a-1fff863d3624')\"\n",
              "            title=\"Convert this dataframe to an interactive table.\"\n",
              "            style=\"display:none;\">\n",
              "\n",
              "  <svg xmlns=\"http://www.w3.org/2000/svg\" height=\"24px\" viewBox=\"0 -960 960 960\">\n",
              "    <path d=\"M120-120v-720h720v720H120Zm60-500h600v-160H180v160Zm220 220h160v-160H400v160Zm0 220h160v-160H400v160ZM180-400h160v-160H180v160Zm440 0h160v-160H620v160ZM180-180h160v-160H180v160Zm440 0h160v-160H620v160Z\"/>\n",
              "  </svg>\n",
              "    </button>\n",
              "\n",
              "  <style>\n",
              "    .colab-df-container {\n",
              "      display:flex;\n",
              "      gap: 12px;\n",
              "    }\n",
              "\n",
              "    .colab-df-convert {\n",
              "      background-color: #E8F0FE;\n",
              "      border: none;\n",
              "      border-radius: 50%;\n",
              "      cursor: pointer;\n",
              "      display: none;\n",
              "      fill: #1967D2;\n",
              "      height: 32px;\n",
              "      padding: 0 0 0 0;\n",
              "      width: 32px;\n",
              "    }\n",
              "\n",
              "    .colab-df-convert:hover {\n",
              "      background-color: #E2EBFA;\n",
              "      box-shadow: 0px 1px 2px rgba(60, 64, 67, 0.3), 0px 1px 3px 1px rgba(60, 64, 67, 0.15);\n",
              "      fill: #174EA6;\n",
              "    }\n",
              "\n",
              "    .colab-df-buttons div {\n",
              "      margin-bottom: 4px;\n",
              "    }\n",
              "\n",
              "    [theme=dark] .colab-df-convert {\n",
              "      background-color: #3B4455;\n",
              "      fill: #D2E3FC;\n",
              "    }\n",
              "\n",
              "    [theme=dark] .colab-df-convert:hover {\n",
              "      background-color: #434B5C;\n",
              "      box-shadow: 0px 1px 3px 1px rgba(0, 0, 0, 0.15);\n",
              "      filter: drop-shadow(0px 1px 2px rgba(0, 0, 0, 0.3));\n",
              "      fill: #FFFFFF;\n",
              "    }\n",
              "  </style>\n",
              "\n",
              "    <script>\n",
              "      const buttonEl =\n",
              "        document.querySelector('#df-5a28d438-6fa0-4dd7-981a-1fff863d3624 button.colab-df-convert');\n",
              "      buttonEl.style.display =\n",
              "        google.colab.kernel.accessAllowed ? 'block' : 'none';\n",
              "\n",
              "      async function convertToInteractive(key) {\n",
              "        const element = document.querySelector('#df-5a28d438-6fa0-4dd7-981a-1fff863d3624');\n",
              "        const dataTable =\n",
              "          await google.colab.kernel.invokeFunction('convertToInteractive',\n",
              "                                                    [key], {});\n",
              "        if (!dataTable) return;\n",
              "\n",
              "        const docLinkHtml = 'Like what you see? Visit the ' +\n",
              "          '<a target=\"_blank\" href=https://colab.research.google.com/notebooks/data_table.ipynb>data table notebook</a>'\n",
              "          + ' to learn more about interactive tables.';\n",
              "        element.innerHTML = '';\n",
              "        dataTable['output_type'] = 'display_data';\n",
              "        await google.colab.output.renderOutput(dataTable, element);\n",
              "        const docLink = document.createElement('div');\n",
              "        docLink.innerHTML = docLinkHtml;\n",
              "        element.appendChild(docLink);\n",
              "      }\n",
              "    </script>\n",
              "  </div>\n",
              "\n",
              "\n",
              "<div id=\"df-8972761a-24e1-4195-8fd1-9b4da103797b\">\n",
              "  <button class=\"colab-df-quickchart\" onclick=\"quickchart('df-8972761a-24e1-4195-8fd1-9b4da103797b')\"\n",
              "            title=\"Suggest charts.\"\n",
              "            style=\"display:none;\">\n",
              "\n",
              "<svg xmlns=\"http://www.w3.org/2000/svg\" height=\"24px\"viewBox=\"0 0 24 24\"\n",
              "     width=\"24px\">\n",
              "    <g>\n",
              "        <path d=\"M19 3H5c-1.1 0-2 .9-2 2v14c0 1.1.9 2 2 2h14c1.1 0 2-.9 2-2V5c0-1.1-.9-2-2-2zM9 17H7v-7h2v7zm4 0h-2V7h2v10zm4 0h-2v-4h2v4z\"/>\n",
              "    </g>\n",
              "</svg>\n",
              "  </button>\n",
              "\n",
              "<style>\n",
              "  .colab-df-quickchart {\n",
              "      --bg-color: #E8F0FE;\n",
              "      --fill-color: #1967D2;\n",
              "      --hover-bg-color: #E2EBFA;\n",
              "      --hover-fill-color: #174EA6;\n",
              "      --disabled-fill-color: #AAA;\n",
              "      --disabled-bg-color: #DDD;\n",
              "  }\n",
              "\n",
              "  [theme=dark] .colab-df-quickchart {\n",
              "      --bg-color: #3B4455;\n",
              "      --fill-color: #D2E3FC;\n",
              "      --hover-bg-color: #434B5C;\n",
              "      --hover-fill-color: #FFFFFF;\n",
              "      --disabled-bg-color: #3B4455;\n",
              "      --disabled-fill-color: #666;\n",
              "  }\n",
              "\n",
              "  .colab-df-quickchart {\n",
              "    background-color: var(--bg-color);\n",
              "    border: none;\n",
              "    border-radius: 50%;\n",
              "    cursor: pointer;\n",
              "    display: none;\n",
              "    fill: var(--fill-color);\n",
              "    height: 32px;\n",
              "    padding: 0;\n",
              "    width: 32px;\n",
              "  }\n",
              "\n",
              "  .colab-df-quickchart:hover {\n",
              "    background-color: var(--hover-bg-color);\n",
              "    box-shadow: 0 1px 2px rgba(60, 64, 67, 0.3), 0 1px 3px 1px rgba(60, 64, 67, 0.15);\n",
              "    fill: var(--button-hover-fill-color);\n",
              "  }\n",
              "\n",
              "  .colab-df-quickchart-complete:disabled,\n",
              "  .colab-df-quickchart-complete:disabled:hover {\n",
              "    background-color: var(--disabled-bg-color);\n",
              "    fill: var(--disabled-fill-color);\n",
              "    box-shadow: none;\n",
              "  }\n",
              "\n",
              "  .colab-df-spinner {\n",
              "    border: 2px solid var(--fill-color);\n",
              "    border-color: transparent;\n",
              "    border-bottom-color: var(--fill-color);\n",
              "    animation:\n",
              "      spin 1s steps(1) infinite;\n",
              "  }\n",
              "\n",
              "  @keyframes spin {\n",
              "    0% {\n",
              "      border-color: transparent;\n",
              "      border-bottom-color: var(--fill-color);\n",
              "      border-left-color: var(--fill-color);\n",
              "    }\n",
              "    20% {\n",
              "      border-color: transparent;\n",
              "      border-left-color: var(--fill-color);\n",
              "      border-top-color: var(--fill-color);\n",
              "    }\n",
              "    30% {\n",
              "      border-color: transparent;\n",
              "      border-left-color: var(--fill-color);\n",
              "      border-top-color: var(--fill-color);\n",
              "      border-right-color: var(--fill-color);\n",
              "    }\n",
              "    40% {\n",
              "      border-color: transparent;\n",
              "      border-right-color: var(--fill-color);\n",
              "      border-top-color: var(--fill-color);\n",
              "    }\n",
              "    60% {\n",
              "      border-color: transparent;\n",
              "      border-right-color: var(--fill-color);\n",
              "    }\n",
              "    80% {\n",
              "      border-color: transparent;\n",
              "      border-right-color: var(--fill-color);\n",
              "      border-bottom-color: var(--fill-color);\n",
              "    }\n",
              "    90% {\n",
              "      border-color: transparent;\n",
              "      border-bottom-color: var(--fill-color);\n",
              "    }\n",
              "  }\n",
              "</style>\n",
              "\n",
              "  <script>\n",
              "    async function quickchart(key) {\n",
              "      const quickchartButtonEl =\n",
              "        document.querySelector('#' + key + ' button');\n",
              "      quickchartButtonEl.disabled = true;  // To prevent multiple clicks.\n",
              "      quickchartButtonEl.classList.add('colab-df-spinner');\n",
              "      try {\n",
              "        const charts = await google.colab.kernel.invokeFunction(\n",
              "            'suggestCharts', [key], {});\n",
              "      } catch (error) {\n",
              "        console.error('Error during call to suggestCharts:', error);\n",
              "      }\n",
              "      quickchartButtonEl.classList.remove('colab-df-spinner');\n",
              "      quickchartButtonEl.classList.add('colab-df-quickchart-complete');\n",
              "    }\n",
              "    (() => {\n",
              "      let quickchartButtonEl =\n",
              "        document.querySelector('#df-8972761a-24e1-4195-8fd1-9b4da103797b button');\n",
              "      quickchartButtonEl.style.display =\n",
              "        google.colab.kernel.accessAllowed ? 'block' : 'none';\n",
              "    })();\n",
              "  </script>\n",
              "</div>\n",
              "    </div>\n",
              "  </div>\n"
            ]
          },
          "metadata": {},
          "execution_count": 162
        }
      ]
    },
    {
      "cell_type": "code",
      "source": [
        "D.to_csv('distance.csv')# Writing the table to CSV"
      ],
      "metadata": {
        "id": "XJXMLYXDWEro"
      },
      "execution_count": 163,
      "outputs": []
    }
  ]
}