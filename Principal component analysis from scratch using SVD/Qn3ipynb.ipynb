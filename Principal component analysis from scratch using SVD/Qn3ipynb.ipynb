{
  "nbformat": 4,
  "nbformat_minor": 0,
  "metadata": {
    "colab": {
      "provenance": []
    },
    "kernelspec": {
      "name": "python3",
      "display_name": "Python 3"
    },
    "language_info": {
      "name": "python"
    }
  },
  "cells": [
    {
      "cell_type": "markdown",
      "source": [
        "\n",
        "# Question 3.\n",
        "\n"
      ],
      "metadata": {
        "id": "0lKa9KVj_9HF"
      }
    },
    {
      "cell_type": "markdown",
      "source": [
        "# Importing Libraries"
      ],
      "metadata": {
        "id": "OT-gHN8eVMvs"
      }
    },
    {
      "cell_type": "code",
      "execution_count": 12,
      "metadata": {
        "id": "2imqdJn6_U5x"
      },
      "outputs": [],
      "source": [
        "import numpy as np\n",
        "from scipy.linalg import orth\n",
        "import pandas as pd\n",
        "import numpy as np\n",
        "from scipy.sparse.linalg import svds,eigs\n",
        "import matplotlib.pyplot as plt"
      ]
    },
    {
      "cell_type": "markdown",
      "source": [
        "# PCA class"
      ],
      "metadata": {
        "id": "RiMMVFkLVKj-"
      }
    },
    {
      "cell_type": "code",
      "source": [
        "class Denoiser:\n",
        "\n",
        "  def __init__(self,data,final_dim) :\n",
        "    self.data=data\n",
        "    self.mean=data.mean(axis=0)\n",
        "    self.std=data.std(axis=0)\n",
        "    self.dim=final_dim\n",
        "\n",
        "  #SVD Based\n",
        "  def get_svs(self) :\n",
        "    zero_mean=(self.data-self.mean)/self.std\n",
        "    u,s,v=svds(zero_mean,k=self.dim)\n",
        "    v=v.T\n",
        "    return np.fliplr(v)\n",
        "\n",
        "  #Covariance_matrix Based\n",
        "  def get_eigvs(self):\n",
        "    zero_mean=(self.data-self.mean)/self.std\n",
        "    l=self.data.shape[0]\n",
        "    cov=(1/l)*(zero_mean.dot(zero_mean.T))\n",
        "    vals,eig=eigs(cov,k=self.dim)\n",
        "    eig=np.real(eig)\n",
        "    vals=np.real(vals)\n",
        "    return eig\n",
        "\n",
        "  def get_dim(self,D,svs=False,eigvs=False):\n",
        "    Dt=(D-self.mean)/self.std\n",
        "    if svs==True :\n",
        "      v=self.get_svs()\n",
        "      final=Dt.dot(v)\n",
        "      return final,v\n",
        "    if eigvs==True :\n",
        "      v=self.get_eigvs()\n",
        "      final=Dt.dot(v)\n",
        "      return final\n",
        "\n",
        "  def Reconstruct(self,D,svs=False,eigvs=False) :\n",
        "    if svs==True:\n",
        "      Final,v=self.get_dim(D,svs=svs)\n",
        "    if eigvs==True:\n",
        "      Final,v=self.get_dim(D,eigvs=eigvs)\n",
        "    Recons=Final.dot(v.T)*self.std+self.mean\n",
        "    return Recons"
      ],
      "metadata": {
        "id": "7_9g-PjP_eT-"
      },
      "execution_count": 13,
      "outputs": []
    },
    {
      "cell_type": "markdown",
      "source": [
        "#Computes Distance"
      ],
      "metadata": {
        "id": "X2sM9fkPVRL3"
      }
    },
    {
      "cell_type": "code",
      "source": [
        "def get_total_distance(data,projected_data):\n",
        "  L_sqaured=np.sum(A*A,axis=1)\n",
        "  proj_L_sqaured=np.sum(projected_data*projected_data,axis=1)\n",
        "  distance_squared=L_sqaured-proj_L_sqaured\n",
        "  Sum_of_distance=np.sum(distance_squared**0.5)\n",
        "  return Sum_of_distance"
      ],
      "metadata": {
        "id": "_txBF3vR_beC"
      },
      "execution_count": 14,
      "outputs": []
    },
    {
      "cell_type": "markdown",
      "source": [
        "# Lower Dimension Converter"
      ],
      "metadata": {
        "id": "UZZ6KjdlVEk2"
      }
    },
    {
      "cell_type": "code",
      "source": [
        "def get_lower_dim(data,basis):#expects features in the columns and samples in the row of data and for basis matrix each column is a basis vector\n",
        "  return np.dot(data,basis)"
      ],
      "metadata": {
        "id": "2WhdMivV_YV1"
      },
      "execution_count": 15,
      "outputs": []
    },
    {
      "cell_type": "markdown",
      "source": [
        "# Randomly Generated Data out of Gaussian Distribution"
      ],
      "metadata": {
        "id": "3H8qasXDU7kl"
      }
    },
    {
      "cell_type": "code",
      "source": [
        "np.random.seed(0)\n",
        "A=np.array([[np.random.normal() for i in range(10)] for j in range(200)]) #columns are features and rows are samples. Randomly generated data matrix from Gaussian Distribution"
      ],
      "metadata": {
        "id": "ETRzoxkT_gzD"
      },
      "execution_count": 16,
      "outputs": []
    },
    {
      "cell_type": "code",
      "source": [
        "PCA=Denoiser(A,final_dim=2).get_svs()#Get the principal components"
      ],
      "metadata": {
        "id": "7-y8xYQC_jbU"
      },
      "execution_count": 17,
      "outputs": []
    },
    {
      "cell_type": "code",
      "source": [
        "Proj_A=get_lower_dim(A,PCA)"
      ],
      "metadata": {
        "id": "HIXofb26_oI4"
      },
      "execution_count": 18,
      "outputs": []
    },
    {
      "cell_type": "markdown",
      "source": [
        "**The distance computed from projection vectors spanned by PCs**"
      ],
      "metadata": {
        "id": "izm9Z4R1_yc1"
      }
    },
    {
      "cell_type": "code",
      "source": [
        "get_total_distance(A,Proj_A)#Distance between the projection vector and the actual one when the basis is chosen from 2 PCs"
      ],
      "metadata": {
        "colab": {
          "base_uri": "https://localhost:8080/"
        },
        "id": "QCRz3O45_wQs",
        "outputId": "3346dfea-402e-42e4-d557-4ab148668cae"
      },
      "execution_count": 19,
      "outputs": [
        {
          "output_type": "execute_result",
          "data": {
            "text/plain": [
              "520.2545438182989"
            ]
          },
          "metadata": {},
          "execution_count": 19
        }
      ]
    },
    {
      "cell_type": "markdown",
      "source": [
        "**The distance computed from projection vector and original vector spanned by random orthonormal basis**"
      ],
      "metadata": {
        "id": "0PHJjwlY_2XL"
      }
    },
    {
      "cell_type": "code",
      "source": [
        "np.random.seed(1)\n",
        "G=[]\n",
        "for i in range(1,51):\n",
        "  plane=np.random.randn(10,10).astype(np.float64)\n",
        "  plane=orth(plane)[:,:2]# generating the plane with 2 orthonormal Basis vectors\n",
        "  Proj_A=get_lower_dim(A,plane)\n",
        "  d=get_total_distance(A,Proj_A)\n",
        "  G.append([i,d])\n",
        "  print(\"For plane {}  the distance is {} \".format(i,d))"
      ],
      "metadata": {
        "colab": {
          "base_uri": "https://localhost:8080/"
        },
        "id": "GiNZEawl_1o6",
        "outputId": "93e1bfd8-289e-4014-eac1-6dda6df7a679"
      },
      "execution_count": 20,
      "outputs": [
        {
          "output_type": "stream",
          "name": "stdout",
          "text": [
            "For plane 1  the distance is 537.2295955476261 \n",
            "For plane 2  the distance is 538.1080904812743 \n",
            "For plane 3  the distance is 535.6530741995253 \n",
            "For plane 4  the distance is 532.4919754316178 \n",
            "For plane 5  the distance is 536.5445393665382 \n",
            "For plane 6  the distance is 538.7546013210087 \n",
            "For plane 7  the distance is 530.1999758865302 \n",
            "For plane 8  the distance is 528.661625324711 \n",
            "For plane 9  the distance is 537.211124980598 \n",
            "For plane 10  the distance is 538.9288694066157 \n",
            "For plane 11  the distance is 536.5780756860167 \n",
            "For plane 12  the distance is 533.4718355432108 \n",
            "For plane 13  the distance is 532.1988908939346 \n",
            "For plane 14  the distance is 536.7741409783705 \n",
            "For plane 15  the distance is 540.832625973793 \n",
            "For plane 16  the distance is 529.0779368039488 \n",
            "For plane 17  the distance is 535.4514262851429 \n",
            "For plane 18  the distance is 532.4285991796196 \n",
            "For plane 19  the distance is 537.4535684178197 \n",
            "For plane 20  the distance is 532.861883557267 \n",
            "For plane 21  the distance is 536.6432886232302 \n",
            "For plane 22  the distance is 533.8861878634119 \n",
            "For plane 23  the distance is 535.6231579910677 \n",
            "For plane 24  the distance is 536.246040620038 \n",
            "For plane 25  the distance is 532.9308160893331 \n",
            "For plane 26  the distance is 530.4049543198444 \n",
            "For plane 27  the distance is 526.68282012593 \n",
            "For plane 28  the distance is 537.5373633704928 \n",
            "For plane 29  the distance is 537.8981671948385 \n",
            "For plane 30  the distance is 528.2635247755078 \n",
            "For plane 31  the distance is 539.5011626700655 \n",
            "For plane 32  the distance is 543.3439864061131 \n",
            "For plane 33  the distance is 529.0427244046525 \n",
            "For plane 34  the distance is 537.5643208392007 \n",
            "For plane 35  the distance is 541.4859912842039 \n",
            "For plane 36  the distance is 539.4734852658821 \n",
            "For plane 37  the distance is 542.4617496643491 \n",
            "For plane 38  the distance is 538.7785514060071 \n",
            "For plane 39  the distance is 541.7617915404246 \n",
            "For plane 40  the distance is 540.7913991445189 \n",
            "For plane 41  the distance is 543.1579659030539 \n",
            "For plane 42  the distance is 534.7941873370787 \n",
            "For plane 43  the distance is 532.8081502586172 \n",
            "For plane 44  the distance is 530.7153661758905 \n",
            "For plane 45  the distance is 531.1667383399902 \n",
            "For plane 46  the distance is 535.0197614858647 \n",
            "For plane 47  the distance is 533.2782480058547 \n",
            "For plane 48  the distance is 537.4516487083829 \n",
            "For plane 49  the distance is 525.7908775123742 \n",
            "For plane 50  the distance is 532.7337462996034 \n"
          ]
        }
      ]
    },
    {
      "cell_type": "code",
      "source": [
        "D=pd.DataFrame(G,columns=['Plane Number','Total Distance'])\n",
        "D.set_index('Plane Number',inplace=True)\n",
        "D.head()"
      ],
      "metadata": {
        "colab": {
          "base_uri": "https://localhost:8080/",
          "height": 237
        },
        "id": "eeD2e5vlV981",
        "outputId": "0732cd01-316e-4416-d60e-7348200181e2"
      },
      "execution_count": 21,
      "outputs": [
        {
          "output_type": "execute_result",
          "data": {
            "text/plain": [
              "              Total Distance\n",
              "Plane Number                \n",
              "1                 537.229596\n",
              "2                 538.108090\n",
              "3                 535.653074\n",
              "4                 532.491975\n",
              "5                 536.544539"
            ],
            "text/html": [
              "\n",
              "  <div id=\"df-6c5af6d1-e435-49d3-a1ef-78289e5bad50\" class=\"colab-df-container\">\n",
              "    <div>\n",
              "<style scoped>\n",
              "    .dataframe tbody tr th:only-of-type {\n",
              "        vertical-align: middle;\n",
              "    }\n",
              "\n",
              "    .dataframe tbody tr th {\n",
              "        vertical-align: top;\n",
              "    }\n",
              "\n",
              "    .dataframe thead th {\n",
              "        text-align: right;\n",
              "    }\n",
              "</style>\n",
              "<table border=\"1\" class=\"dataframe\">\n",
              "  <thead>\n",
              "    <tr style=\"text-align: right;\">\n",
              "      <th></th>\n",
              "      <th>Total Distance</th>\n",
              "    </tr>\n",
              "    <tr>\n",
              "      <th>Plane Number</th>\n",
              "      <th></th>\n",
              "    </tr>\n",
              "  </thead>\n",
              "  <tbody>\n",
              "    <tr>\n",
              "      <th>1</th>\n",
              "      <td>537.229596</td>\n",
              "    </tr>\n",
              "    <tr>\n",
              "      <th>2</th>\n",
              "      <td>538.108090</td>\n",
              "    </tr>\n",
              "    <tr>\n",
              "      <th>3</th>\n",
              "      <td>535.653074</td>\n",
              "    </tr>\n",
              "    <tr>\n",
              "      <th>4</th>\n",
              "      <td>532.491975</td>\n",
              "    </tr>\n",
              "    <tr>\n",
              "      <th>5</th>\n",
              "      <td>536.544539</td>\n",
              "    </tr>\n",
              "  </tbody>\n",
              "</table>\n",
              "</div>\n",
              "    <div class=\"colab-df-buttons\">\n",
              "\n",
              "  <div class=\"colab-df-container\">\n",
              "    <button class=\"colab-df-convert\" onclick=\"convertToInteractive('df-6c5af6d1-e435-49d3-a1ef-78289e5bad50')\"\n",
              "            title=\"Convert this dataframe to an interactive table.\"\n",
              "            style=\"display:none;\">\n",
              "\n",
              "  <svg xmlns=\"http://www.w3.org/2000/svg\" height=\"24px\" viewBox=\"0 -960 960 960\">\n",
              "    <path d=\"M120-120v-720h720v720H120Zm60-500h600v-160H180v160Zm220 220h160v-160H400v160Zm0 220h160v-160H400v160ZM180-400h160v-160H180v160Zm440 0h160v-160H620v160ZM180-180h160v-160H180v160Zm440 0h160v-160H620v160Z\"/>\n",
              "  </svg>\n",
              "    </button>\n",
              "\n",
              "  <style>\n",
              "    .colab-df-container {\n",
              "      display:flex;\n",
              "      gap: 12px;\n",
              "    }\n",
              "\n",
              "    .colab-df-convert {\n",
              "      background-color: #E8F0FE;\n",
              "      border: none;\n",
              "      border-radius: 50%;\n",
              "      cursor: pointer;\n",
              "      display: none;\n",
              "      fill: #1967D2;\n",
              "      height: 32px;\n",
              "      padding: 0 0 0 0;\n",
              "      width: 32px;\n",
              "    }\n",
              "\n",
              "    .colab-df-convert:hover {\n",
              "      background-color: #E2EBFA;\n",
              "      box-shadow: 0px 1px 2px rgba(60, 64, 67, 0.3), 0px 1px 3px 1px rgba(60, 64, 67, 0.15);\n",
              "      fill: #174EA6;\n",
              "    }\n",
              "\n",
              "    .colab-df-buttons div {\n",
              "      margin-bottom: 4px;\n",
              "    }\n",
              "\n",
              "    [theme=dark] .colab-df-convert {\n",
              "      background-color: #3B4455;\n",
              "      fill: #D2E3FC;\n",
              "    }\n",
              "\n",
              "    [theme=dark] .colab-df-convert:hover {\n",
              "      background-color: #434B5C;\n",
              "      box-shadow: 0px 1px 3px 1px rgba(0, 0, 0, 0.15);\n",
              "      filter: drop-shadow(0px 1px 2px rgba(0, 0, 0, 0.3));\n",
              "      fill: #FFFFFF;\n",
              "    }\n",
              "  </style>\n",
              "\n",
              "    <script>\n",
              "      const buttonEl =\n",
              "        document.querySelector('#df-6c5af6d1-e435-49d3-a1ef-78289e5bad50 button.colab-df-convert');\n",
              "      buttonEl.style.display =\n",
              "        google.colab.kernel.accessAllowed ? 'block' : 'none';\n",
              "\n",
              "      async function convertToInteractive(key) {\n",
              "        const element = document.querySelector('#df-6c5af6d1-e435-49d3-a1ef-78289e5bad50');\n",
              "        const dataTable =\n",
              "          await google.colab.kernel.invokeFunction('convertToInteractive',\n",
              "                                                    [key], {});\n",
              "        if (!dataTable) return;\n",
              "\n",
              "        const docLinkHtml = 'Like what you see? Visit the ' +\n",
              "          '<a target=\"_blank\" href=https://colab.research.google.com/notebooks/data_table.ipynb>data table notebook</a>'\n",
              "          + ' to learn more about interactive tables.';\n",
              "        element.innerHTML = '';\n",
              "        dataTable['output_type'] = 'display_data';\n",
              "        await google.colab.output.renderOutput(dataTable, element);\n",
              "        const docLink = document.createElement('div');\n",
              "        docLink.innerHTML = docLinkHtml;\n",
              "        element.appendChild(docLink);\n",
              "      }\n",
              "    </script>\n",
              "  </div>\n",
              "\n",
              "\n",
              "<div id=\"df-38e2f5dc-4061-4e61-ad67-0654c47e4769\">\n",
              "  <button class=\"colab-df-quickchart\" onclick=\"quickchart('df-38e2f5dc-4061-4e61-ad67-0654c47e4769')\"\n",
              "            title=\"Suggest charts.\"\n",
              "            style=\"display:none;\">\n",
              "\n",
              "<svg xmlns=\"http://www.w3.org/2000/svg\" height=\"24px\"viewBox=\"0 0 24 24\"\n",
              "     width=\"24px\">\n",
              "    <g>\n",
              "        <path d=\"M19 3H5c-1.1 0-2 .9-2 2v14c0 1.1.9 2 2 2h14c1.1 0 2-.9 2-2V5c0-1.1-.9-2-2-2zM9 17H7v-7h2v7zm4 0h-2V7h2v10zm4 0h-2v-4h2v4z\"/>\n",
              "    </g>\n",
              "</svg>\n",
              "  </button>\n",
              "\n",
              "<style>\n",
              "  .colab-df-quickchart {\n",
              "    background-color: #E8F0FE;\n",
              "    border: none;\n",
              "    border-radius: 50%;\n",
              "    cursor: pointer;\n",
              "    display: none;\n",
              "    fill: #1967D2;\n",
              "    height: 32px;\n",
              "    padding: 0 0 0 0;\n",
              "    width: 32px;\n",
              "  }\n",
              "\n",
              "  .colab-df-quickchart:hover {\n",
              "    background-color: #E2EBFA;\n",
              "    box-shadow: 0px 1px 2px rgba(60, 64, 67, 0.3), 0px 1px 3px 1px rgba(60, 64, 67, 0.15);\n",
              "    fill: #174EA6;\n",
              "  }\n",
              "\n",
              "  [theme=dark] .colab-df-quickchart {\n",
              "    background-color: #3B4455;\n",
              "    fill: #D2E3FC;\n",
              "  }\n",
              "\n",
              "  [theme=dark] .colab-df-quickchart:hover {\n",
              "    background-color: #434B5C;\n",
              "    box-shadow: 0px 1px 3px 1px rgba(0, 0, 0, 0.15);\n",
              "    filter: drop-shadow(0px 1px 2px rgba(0, 0, 0, 0.3));\n",
              "    fill: #FFFFFF;\n",
              "  }\n",
              "</style>\n",
              "\n",
              "  <script>\n",
              "    async function quickchart(key) {\n",
              "      const charts = await google.colab.kernel.invokeFunction(\n",
              "          'suggestCharts', [key], {});\n",
              "    }\n",
              "    (() => {\n",
              "      let quickchartButtonEl =\n",
              "        document.querySelector('#df-38e2f5dc-4061-4e61-ad67-0654c47e4769 button');\n",
              "      quickchartButtonEl.style.display =\n",
              "        google.colab.kernel.accessAllowed ? 'block' : 'none';\n",
              "    })();\n",
              "  </script>\n",
              "</div>\n",
              "    </div>\n",
              "  </div>\n"
            ]
          },
          "metadata": {},
          "execution_count": 21
        }
      ]
    },
    {
      "cell_type": "code",
      "source": [
        "D.to_csv('distance.csv')# Writing the table to CSV"
      ],
      "metadata": {
        "id": "XJXMLYXDWEro"
      },
      "execution_count": null,
      "outputs": []
    }
  ]
}